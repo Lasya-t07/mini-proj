{
 "cells": [
  {
   "cell_type": "code",
   "execution_count": 1,
   "metadata": {},
   "outputs": [],
   "source": [
    "import tensorflow as tf\n",
    "\n",
    "import warnings\n",
    "warnings.filterwarnings('ignore')"
   ]
  },
  {
   "cell_type": "code",
   "execution_count": 2,
   "metadata": {},
   "outputs": [
    {
     "name": "stdout",
     "output_type": "stream",
     "text": [
      "Version of Tensorflow:  2.10.0\n"
     ]
    }
   ],
   "source": [
    "# Checking Version of Tensorflow\n",
    "\n",
    "print(\"Version of Tensorflow: \", tf.__version__)"
   ]
  },
  {
   "cell_type": "code",
   "execution_count": 3,
   "metadata": {},
   "outputs": [
    {
     "name": "stdout",
     "output_type": "stream",
     "text": [
      "Cuda Availability:  True\n"
     ]
    }
   ],
   "source": [
    "# Checking if cuda is there.\n",
    "\n",
    "print(\"Cuda Availability: \", tf.test.is_built_with_cuda())"
   ]
  },
  {
   "cell_type": "code",
   "execution_count": 4,
   "metadata": {},
   "outputs": [
    {
     "name": "stdout",
     "output_type": "stream",
     "text": [
      "WARNING:tensorflow:From C:\\Users\\krish\\AppData\\Local\\Temp\\ipykernel_16748\\4141455601.py:3: is_gpu_available (from tensorflow.python.framework.test_util) is deprecated and will be removed in a future version.\n",
      "Instructions for updating:\n",
      "Use `tf.config.list_physical_devices('GPU')` instead.\n",
      "GPU  Availability:  True\n"
     ]
    }
   ],
   "source": [
    "# Checking GPU is available or not.\n",
    "\n",
    "print(\"GPU  Availability: \", tf.test.is_gpu_available())"
   ]
  },
  {
   "cell_type": "code",
   "execution_count": 5,
   "metadata": {},
   "outputs": [
    {
     "name": "stdout",
     "output_type": "stream",
     "text": [
      "Devices Available:  [PhysicalDevice(name='/physical_device:CPU:0', device_type='CPU'), PhysicalDevice(name='/physical_device:GPU:0', device_type='GPU')]\n"
     ]
    }
   ],
   "source": [
    "# Check nos of GPUS\n",
    "\n",
    "print(\"Devices Available: \", tf.config.experimental.list_physical_devices())\n"
   ]
  },
  {
   "cell_type": "code",
   "execution_count": 6,
   "metadata": {},
   "outputs": [
    {
     "name": "stderr",
     "output_type": "stream",
     "text": [
      "100%|██████████| 50000000/50000000 [00:11<00:00, 4220575.82it/s]"
     ]
    },
    {
     "name": "stdout",
     "output_type": "stream",
     "text": [
      "Sum of numbers is :  1249999975000000\n"
     ]
    },
    {
     "name": "stderr",
     "output_type": "stream",
     "text": [
      "\n"
     ]
    }
   ],
   "source": [
    "import tqdm\n",
    "from tqdm import tqdm \n",
    "\n",
    "X = range(50000000)\n",
    "\n",
    "sum = 0\n",
    "\n",
    "for num in tqdm(X):\n",
    "    sum = num + sum\n",
    "    \n",
    "print(\"Sum of numbers is : \", sum)"
   ]
  },
  {
   "cell_type": "code",
   "execution_count": 7,
   "metadata": {},
   "outputs": [
    {
     "name": "stdout",
     "output_type": "stream",
     "text": [
      "CPU devices found: 1\n",
      "GPU devices found: 1\n",
      "Logical GPU devices: 1\n"
     ]
    }
   ],
   "source": [
    "import tensorflow as tf\n",
    "\n",
    "# Check for CPU availability\n",
    "try:\n",
    "  cpu_devices = tf.config.list_physical_devices('CPU')\n",
    "  print(f\"CPU devices found: {len(cpu_devices)}\")\n",
    "except RuntimeError:\n",
    "  print(\"Failed to list CPU devices.\")\n",
    "\n",
    "# Check for GPU availability\n",
    "try:\n",
    "  gpu_devices = tf.config.list_physical_devices('GPU')\n",
    "  print(f\"GPU devices found: {len(gpu_devices)}\")\n",
    "except RuntimeError:\n",
    "  print(\"Failed to list GPU devices.\")\n",
    "\n",
    "# Check if a physical GPU exists\n",
    "if gpu_devices:\n",
    "  # Restrict TensorFlow to only use the first GPU\n",
    "  try:\n",
    "    tf.config.experimental.set_memory_growth(gpu_devices[0], True)\n",
    "    logical_gpus = tf.config.list_logical_devices('GPU')\n",
    "    print(f\"Logical GPU devices: {len(logical_gpus)}\")\n",
    "  except RuntimeError as e:\n",
    "    print(f\"Error configuring GPU: {e}\")\n",
    "else:\n",
    "  print(\"No GPUs found.\")\n"
   ]
  },
  {
   "cell_type": "code",
   "execution_count": null,
   "metadata": {},
   "outputs": [],
   "source": []
  }
 ],
 "metadata": {
  "kernelspec": {
   "display_name": "Python 3",
   "language": "python",
   "name": "python3"
  },
  "language_info": {
   "codemirror_mode": {
    "name": "ipython",
    "version": 3
   },
   "file_extension": ".py",
   "mimetype": "text/x-python",
   "name": "python",
   "nbconvert_exporter": "python",
   "pygments_lexer": "ipython3",
   "version": "3.9.18"
  }
 },
 "nbformat": 4,
 "nbformat_minor": 2
}
