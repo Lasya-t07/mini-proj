{
 "cells": [
  {
   "cell_type": "code",
   "execution_count": 1,
   "metadata": {},
   "outputs": [],
   "source": [
    "# Importing the libraries\n",
    "import numpy as np\n",
    "import pandas as pd\n",
    "import seaborn as sns\n",
    "from matplotlib import pyplot as plt\n",
    "from sklearn.metrics import accuracy_score, f1_score, roc_auc_score\n",
    "from sklearn.model_selection import train_test_split\n",
    "from xgboost import XGBClassifier\n",
    "from fancyimpute import IterativeImputer\n",
    "import warnings\n",
    "warnings.filterwarnings('ignore')"
   ]
  },
  {
   "cell_type": "code",
   "execution_count": 2,
   "metadata": {},
   "outputs": [],
   "source": [
    "# Load the data\n",
    "data = pd.read_csv('payment-practicesold.csv')"
   ]
  },
  {
   "cell_type": "code",
   "execution_count": 3,
   "metadata": {},
   "outputs": [],
   "source": [
    "# Drop columns that are not useful for the model\n",
    "columns_to_drop = ['Report Id','Start date', 'End date', 'Filing date', 'Company', 'Company number','URL']\n",
    "data = data.drop(columns=columns_to_drop)"
   ]
  },
  {
   "cell_type": "code",
   "execution_count": 4,
   "metadata": {},
   "outputs": [],
   "source": [
    "# assigning types of features\n",
    "numerical_features = data.select_dtypes(include=['int64', 'float64']).columns\n",
    "categorical_features = data.select_dtypes(include=['object','bool']).columns\n",
    "missing_data_cols = [i for i in categorical_features if data[i].isnull().sum() > 0]\n",
    "non_missing_cat = [i for i in categorical_features if i not in missing_data_cols]"
   ]
  },
  {
   "cell_type": "code",
   "execution_count": 5,
   "metadata": {},
   "outputs": [
    {
     "data": {
      "text/html": [
       "<div>\n",
       "<style scoped>\n",
       "    .dataframe tbody tr th:only-of-type {\n",
       "        vertical-align: middle;\n",
       "    }\n",
       "\n",
       "    .dataframe tbody tr th {\n",
       "        vertical-align: top;\n",
       "    }\n",
       "\n",
       "    .dataframe thead th {\n",
       "        text-align: right;\n",
       "    }\n",
       "</style>\n",
       "<table border=\"1\" class=\"dataframe\">\n",
       "  <thead>\n",
       "    <tr style=\"text-align: right;\">\n",
       "      <th></th>\n",
       "      <th>total_missing</th>\n",
       "      <th>perc_missing</th>\n",
       "    </tr>\n",
       "  </thead>\n",
       "  <tbody>\n",
       "    <tr>\n",
       "      <th>Payments made in the reporting period</th>\n",
       "      <td>10381</td>\n",
       "      <td>42.852425</td>\n",
       "    </tr>\n",
       "    <tr>\n",
       "      <th>Average time to pay</th>\n",
       "      <td>2448</td>\n",
       "      <td>10.105263</td>\n",
       "    </tr>\n",
       "    <tr>\n",
       "      <th>% Invoices paid within 30 days</th>\n",
       "      <td>2448</td>\n",
       "      <td>10.105263</td>\n",
       "    </tr>\n",
       "    <tr>\n",
       "      <th>% Invoices paid between 31 and 60 days</th>\n",
       "      <td>2448</td>\n",
       "      <td>10.105263</td>\n",
       "    </tr>\n",
       "    <tr>\n",
       "      <th>% Invoices paid later than 60 days</th>\n",
       "      <td>2448</td>\n",
       "      <td>10.105263</td>\n",
       "    </tr>\n",
       "    <tr>\n",
       "      <th>% Invoices not paid within agreed terms</th>\n",
       "      <td>2405</td>\n",
       "      <td>9.927761</td>\n",
       "    </tr>\n",
       "    <tr>\n",
       "      <th>Shortest (or only) standard payment period</th>\n",
       "      <td>2405</td>\n",
       "      <td>9.927761</td>\n",
       "    </tr>\n",
       "    <tr>\n",
       "      <th>Longest standard payment period</th>\n",
       "      <td>9919</td>\n",
       "      <td>40.945304</td>\n",
       "    </tr>\n",
       "    <tr>\n",
       "      <th>Maximum contractual payment period</th>\n",
       "      <td>2405</td>\n",
       "      <td>9.927761</td>\n",
       "    </tr>\n",
       "    <tr>\n",
       "      <th>Payment terms have changed</th>\n",
       "      <td>2405</td>\n",
       "      <td>9.927761</td>\n",
       "    </tr>\n",
       "    <tr>\n",
       "      <th>Suppliers notified of changes</th>\n",
       "      <td>23684</td>\n",
       "      <td>97.766770</td>\n",
       "    </tr>\n",
       "    <tr>\n",
       "      <th>Participates in payment codes</th>\n",
       "      <td>0</td>\n",
       "      <td>0.000000</td>\n",
       "    </tr>\n",
       "    <tr>\n",
       "      <th>E-Invoicing offered</th>\n",
       "      <td>2405</td>\n",
       "      <td>9.927761</td>\n",
       "    </tr>\n",
       "    <tr>\n",
       "      <th>Supply-chain financing offered</th>\n",
       "      <td>2405</td>\n",
       "      <td>9.927761</td>\n",
       "    </tr>\n",
       "    <tr>\n",
       "      <th>Policy covers charges for remaining on supplier list</th>\n",
       "      <td>2405</td>\n",
       "      <td>9.927761</td>\n",
       "    </tr>\n",
       "    <tr>\n",
       "      <th>Charges have been made for remaining on supplier list</th>\n",
       "      <td>2405</td>\n",
       "      <td>9.927761</td>\n",
       "    </tr>\n",
       "  </tbody>\n",
       "</table>\n",
       "</div>"
      ],
      "text/plain": [
       "                                                    total_missing  \\\n",
       "Payments made in the reporting period                       10381   \n",
       "Average time to pay                                          2448   \n",
       "% Invoices paid within 30 days                               2448   \n",
       "% Invoices paid between 31 and 60 days                       2448   \n",
       "% Invoices paid later than 60 days                           2448   \n",
       "% Invoices not paid within agreed terms                      2405   \n",
       "Shortest (or only) standard payment period                   2405   \n",
       "Longest standard payment period                              9919   \n",
       "Maximum contractual payment period                           2405   \n",
       "Payment terms have changed                                   2405   \n",
       "Suppliers notified of changes                               23684   \n",
       "Participates in payment codes                                   0   \n",
       "E-Invoicing offered                                          2405   \n",
       "Supply-chain financing offered                               2405   \n",
       "Policy covers charges for remaining on supplier...           2405   \n",
       "Charges have been made for remaining on supplie...           2405   \n",
       "\n",
       "                                                    perc_missing  \n",
       "Payments made in the reporting period                  42.852425  \n",
       "Average time to pay                                    10.105263  \n",
       "% Invoices paid within 30 days                         10.105263  \n",
       "% Invoices paid between 31 and 60 days                 10.105263  \n",
       "% Invoices paid later than 60 days                     10.105263  \n",
       "% Invoices not paid within agreed terms                 9.927761  \n",
       "Shortest (or only) standard payment period              9.927761  \n",
       "Longest standard payment period                        40.945304  \n",
       "Maximum contractual payment period                      9.927761  \n",
       "Payment terms have changed                              9.927761  \n",
       "Suppliers notified of changes                          97.766770  \n",
       "Participates in payment codes                           0.000000  \n",
       "E-Invoicing offered                                     9.927761  \n",
       "Supply-chain financing offered                          9.927761  \n",
       "Policy covers charges for remaining on supplier...      9.927761  \n",
       "Charges have been made for remaining on supplie...      9.927761  "
      ]
     },
     "execution_count": 5,
     "metadata": {},
     "output_type": "execute_result"
    }
   ],
   "source": [
    "# Missing data\n",
    "missing_data = pd.DataFrame({'total_missing': data.isnull().sum(), 'perc_missing': (data.isnull().mean())*100})\n",
    "missing_data"
   ]
  },
  {
   "cell_type": "markdown",
   "metadata": {},
   "source": [
    "Handling missing data"
   ]
  },
  {
   "cell_type": "code",
   "execution_count": 6,
   "metadata": {},
   "outputs": [],
   "source": [
    "data = data.dropna(subset=['E-Invoicing offered'])"
   ]
  },
  {
   "cell_type": "code",
   "execution_count": 7,
   "metadata": {},
   "outputs": [],
   "source": [
    "data['Payments made in the reporting period'].fillna(0, inplace=True)"
   ]
  },
  {
   "cell_type": "code",
   "execution_count": 8,
   "metadata": {},
   "outputs": [],
   "source": [
    "for col in numerical_features:\n",
    "    data[col] = data[col].fillna(data[col].mean())"
   ]
  },
  {
   "cell_type": "code",
   "execution_count": 9,
   "metadata": {},
   "outputs": [],
   "source": [
    "mice_imputer = IterativeImputer()\n",
    "data_imputed = mice_imputer.fit_transform(data)\n",
    "data_imputed = pd.DataFrame(data_imputed, columns=data.columns)\n",
    "data = data_imputed"
   ]
  },
  {
   "cell_type": "code",
   "execution_count": 10,
   "metadata": {},
   "outputs": [
    {
     "data": {
      "text/html": [
       "<div>\n",
       "<style scoped>\n",
       "    .dataframe tbody tr th:only-of-type {\n",
       "        vertical-align: middle;\n",
       "    }\n",
       "\n",
       "    .dataframe tbody tr th {\n",
       "        vertical-align: top;\n",
       "    }\n",
       "\n",
       "    .dataframe thead th {\n",
       "        text-align: right;\n",
       "    }\n",
       "</style>\n",
       "<table border=\"1\" class=\"dataframe\">\n",
       "  <thead>\n",
       "    <tr style=\"text-align: right;\">\n",
       "      <th></th>\n",
       "      <th>total_missing</th>\n",
       "      <th>perc_missing</th>\n",
       "    </tr>\n",
       "  </thead>\n",
       "  <tbody>\n",
       "    <tr>\n",
       "      <th>Payments made in the reporting period</th>\n",
       "      <td>0</td>\n",
       "      <td>0.0</td>\n",
       "    </tr>\n",
       "    <tr>\n",
       "      <th>Average time to pay</th>\n",
       "      <td>0</td>\n",
       "      <td>0.0</td>\n",
       "    </tr>\n",
       "    <tr>\n",
       "      <th>% Invoices paid within 30 days</th>\n",
       "      <td>0</td>\n",
       "      <td>0.0</td>\n",
       "    </tr>\n",
       "    <tr>\n",
       "      <th>% Invoices paid between 31 and 60 days</th>\n",
       "      <td>0</td>\n",
       "      <td>0.0</td>\n",
       "    </tr>\n",
       "    <tr>\n",
       "      <th>% Invoices paid later than 60 days</th>\n",
       "      <td>0</td>\n",
       "      <td>0.0</td>\n",
       "    </tr>\n",
       "    <tr>\n",
       "      <th>% Invoices not paid within agreed terms</th>\n",
       "      <td>0</td>\n",
       "      <td>0.0</td>\n",
       "    </tr>\n",
       "    <tr>\n",
       "      <th>Shortest (or only) standard payment period</th>\n",
       "      <td>0</td>\n",
       "      <td>0.0</td>\n",
       "    </tr>\n",
       "    <tr>\n",
       "      <th>Longest standard payment period</th>\n",
       "      <td>0</td>\n",
       "      <td>0.0</td>\n",
       "    </tr>\n",
       "    <tr>\n",
       "      <th>Maximum contractual payment period</th>\n",
       "      <td>0</td>\n",
       "      <td>0.0</td>\n",
       "    </tr>\n",
       "    <tr>\n",
       "      <th>Payment terms have changed</th>\n",
       "      <td>0</td>\n",
       "      <td>0.0</td>\n",
       "    </tr>\n",
       "    <tr>\n",
       "      <th>Suppliers notified of changes</th>\n",
       "      <td>0</td>\n",
       "      <td>0.0</td>\n",
       "    </tr>\n",
       "    <tr>\n",
       "      <th>Participates in payment codes</th>\n",
       "      <td>0</td>\n",
       "      <td>0.0</td>\n",
       "    </tr>\n",
       "    <tr>\n",
       "      <th>E-Invoicing offered</th>\n",
       "      <td>0</td>\n",
       "      <td>0.0</td>\n",
       "    </tr>\n",
       "    <tr>\n",
       "      <th>Supply-chain financing offered</th>\n",
       "      <td>0</td>\n",
       "      <td>0.0</td>\n",
       "    </tr>\n",
       "    <tr>\n",
       "      <th>Policy covers charges for remaining on supplier list</th>\n",
       "      <td>0</td>\n",
       "      <td>0.0</td>\n",
       "    </tr>\n",
       "    <tr>\n",
       "      <th>Charges have been made for remaining on supplier list</th>\n",
       "      <td>0</td>\n",
       "      <td>0.0</td>\n",
       "    </tr>\n",
       "  </tbody>\n",
       "</table>\n",
       "</div>"
      ],
      "text/plain": [
       "                                                    total_missing  \\\n",
       "Payments made in the reporting period                           0   \n",
       "Average time to pay                                             0   \n",
       "% Invoices paid within 30 days                                  0   \n",
       "% Invoices paid between 31 and 60 days                          0   \n",
       "% Invoices paid later than 60 days                              0   \n",
       "% Invoices not paid within agreed terms                         0   \n",
       "Shortest (or only) standard payment period                      0   \n",
       "Longest standard payment period                                 0   \n",
       "Maximum contractual payment period                              0   \n",
       "Payment terms have changed                                      0   \n",
       "Suppliers notified of changes                                   0   \n",
       "Participates in payment codes                                   0   \n",
       "E-Invoicing offered                                             0   \n",
       "Supply-chain financing offered                                  0   \n",
       "Policy covers charges for remaining on supplier...              0   \n",
       "Charges have been made for remaining on supplie...              0   \n",
       "\n",
       "                                                    perc_missing  \n",
       "Payments made in the reporting period                        0.0  \n",
       "Average time to pay                                          0.0  \n",
       "% Invoices paid within 30 days                               0.0  \n",
       "% Invoices paid between 31 and 60 days                       0.0  \n",
       "% Invoices paid later than 60 days                           0.0  \n",
       "% Invoices not paid within agreed terms                      0.0  \n",
       "Shortest (or only) standard payment period                   0.0  \n",
       "Longest standard payment period                              0.0  \n",
       "Maximum contractual payment period                           0.0  \n",
       "Payment terms have changed                                   0.0  \n",
       "Suppliers notified of changes                                0.0  \n",
       "Participates in payment codes                                0.0  \n",
       "E-Invoicing offered                                          0.0  \n",
       "Supply-chain financing offered                               0.0  \n",
       "Policy covers charges for remaining on supplier...           0.0  \n",
       "Charges have been made for remaining on supplie...           0.0  "
      ]
     },
     "execution_count": 10,
     "metadata": {},
     "output_type": "execute_result"
    }
   ],
   "source": [
    "#missing data\n",
    "missing_data = pd.DataFrame({'total_missing': data.isnull().sum(), 'perc_missing': (data.isnull().mean())*100})\n",
    "missing_data"
   ]
  },
  {
   "cell_type": "code",
   "execution_count": 11,
   "metadata": {},
   "outputs": [],
   "source": [
    "n = 5"
   ]
  },
  {
   "cell_type": "code",
   "execution_count": 12,
   "metadata": {},
   "outputs": [
    {
     "data": {
      "text/plain": [
       "[68.0, 51.0, 40.0, 31.0, 24.5]"
      ]
     },
     "execution_count": 12,
     "metadata": {},
     "output_type": "execute_result"
    }
   ],
   "source": [
    "percentile = []\n",
    "for per in range(n):\n",
    "    percentile.append(np.percentile(data['% Invoices not paid within agreed terms'].dropna(), 90-(per*10)))\n",
    "percentile"
   ]
  },
  {
   "cell_type": "code",
   "execution_count": 13,
   "metadata": {},
   "outputs": [],
   "source": [
    "flags = []\n",
    "for i in range(n):\n",
    "    flag = []\n",
    "    for j in data['% Invoices not paid within agreed terms']:\n",
    "        if j > percentile[i]: flag.append(1)\n",
    "        else: flag.append(0)\n",
    "    flags.append(flag)\n",
    "data.drop('% Invoices not paid within agreed terms',axis=1,inplace=True)"
   ]
  },
  {
   "cell_type": "code",
   "execution_count": 14,
   "metadata": {},
   "outputs": [],
   "source": [
    "# Dropping the Highly correlated Features\n",
    "data1 = data.drop(columns=[ '% Invoices paid within 30 days', \n",
    "                            '% Invoices paid later than 60 days',\n",
    "                            'Suppliers notified of changes',\n",
    "                            'Policy covers charges for remaining on supplier list',\n",
    "                            'Payments made in the reporting period'])"
   ]
  },
  {
   "cell_type": "code",
   "execution_count": 15,
   "metadata": {},
   "outputs": [],
   "source": [
    "X_train = []\n",
    "y_train = []\n",
    "X_test = []\n",
    "y_test = []\n",
    "for i in range(n):\n",
    "    a,b,c,d = train_test_split(data1, flags[i], test_size=0.3, random_state=42)\n",
    "    X_train.append(a)\n",
    "    X_test.append(b)\n",
    "    y_train.append(c)\n",
    "    y_test.append(d)\n"
   ]
  },
  {
   "cell_type": "code",
   "execution_count": 16,
   "metadata": {},
   "outputs": [],
   "source": [
    "from imblearn.over_sampling import RandomOverSampler\n",
    "oversampler = RandomOverSampler()\n",
    "for i in range(n):\n",
    "    X_train[i], y_train[i] = oversampler.fit_resample(X_train[i], y_train[i])"
   ]
  },
  {
   "cell_type": "code",
   "execution_count": 17,
   "metadata": {},
   "outputs": [],
   "source": [
    "from sklearn.metrics import roc_curve\n",
    "from sklearn.metrics import auc\n",
    "# XGBoost Model\n",
    "params = {\n",
    "    'learning_rate': 0.01,\n",
    "    'max_depth': 10,\n",
    "    'min_child_weight': 1,\n",
    "    'subsample': 0.85,\n",
    "    'n_estimators': 900,\n",
    "} "
   ]
  },
  {
   "cell_type": "code",
   "execution_count": 18,
   "metadata": {},
   "outputs": [],
   "source": [
    "y_pred = []\n",
    "model = []\n",
    "for i in range(n):\n",
    "    xgb_clf = XGBClassifier(**params)\n",
    "    xgb_clf.fit(X_train[i], y_train[i])\n",
    "    model.append(xgb_clf)\n",
    "    y_pred.append(xgb_clf.predict(X_test[i]))\n",
    "    "
   ]
  },
  {
   "cell_type": "code",
   "execution_count": 19,
   "metadata": {},
   "outputs": [],
   "source": [
    "f_score = []\n",
    "auc_list = []\n",
    "accuracy = []\n",
    "fpr = []\n",
    "tpr = []\n",
    "thresholds = []\n",
    "for i in range(n):\n",
    "    accuracy.append(accuracy_score(y_test[i], y_pred[i]))\n",
    "    f_score.append(f1_score(y_test[i], y_pred[i]))\n",
    "    fpr_, tpr_, thresholds_ = roc_curve(y_test[i], y_pred[i])\n",
    "    fpr.append(fpr_)\n",
    "    tpr.append(tpr_)\n",
    "    thresholds.append(thresholds_)\n",
    "    auc_list.append(auc(fpr[i], tpr[i]))"
   ]
  },
  {
   "cell_type": "markdown",
   "metadata": {},
   "source": [
    "Comparing the models"
   ]
  },
  {
   "cell_type": "code",
   "execution_count": 20,
   "metadata": {},
   "outputs": [
    {
     "data": {
      "text/html": [
       "<div>\n",
       "<style scoped>\n",
       "    .dataframe tbody tr th:only-of-type {\n",
       "        vertical-align: middle;\n",
       "    }\n",
       "\n",
       "    .dataframe tbody tr th {\n",
       "        vertical-align: top;\n",
       "    }\n",
       "\n",
       "    .dataframe thead th {\n",
       "        text-align: right;\n",
       "    }\n",
       "</style>\n",
       "<table border=\"1\" class=\"dataframe\">\n",
       "  <thead>\n",
       "    <tr style=\"text-align: right;\">\n",
       "      <th></th>\n",
       "      <th>Proportion</th>\n",
       "      <th>Accuracy</th>\n",
       "      <th>F1 Score</th>\n",
       "      <th>AUC</th>\n",
       "    </tr>\n",
       "  </thead>\n",
       "  <tbody>\n",
       "    <tr>\n",
       "      <th>0</th>\n",
       "      <td>10%</td>\n",
       "      <td>0.837764</td>\n",
       "      <td>0.411960</td>\n",
       "      <td>0.730909</td>\n",
       "    </tr>\n",
       "    <tr>\n",
       "      <th>1</th>\n",
       "      <td>20%</td>\n",
       "      <td>0.781546</td>\n",
       "      <td>0.537815</td>\n",
       "      <td>0.738211</td>\n",
       "    </tr>\n",
       "    <tr>\n",
       "      <th>2</th>\n",
       "      <td>30%</td>\n",
       "      <td>0.742896</td>\n",
       "      <td>0.602972</td>\n",
       "      <td>0.728179</td>\n",
       "    </tr>\n",
       "    <tr>\n",
       "      <th>3</th>\n",
       "      <td>40%</td>\n",
       "      <td>0.736939</td>\n",
       "      <td>0.684846</td>\n",
       "      <td>0.735653</td>\n",
       "    </tr>\n",
       "    <tr>\n",
       "      <th>4</th>\n",
       "      <td>50%</td>\n",
       "      <td>0.740910</td>\n",
       "      <td>0.744270</td>\n",
       "      <td>0.741154</td>\n",
       "    </tr>\n",
       "  </tbody>\n",
       "</table>\n",
       "</div>"
      ],
      "text/plain": [
       "  Proportion  Accuracy  F1 Score       AUC\n",
       "0        10%  0.837764  0.411960  0.730909\n",
       "1        20%  0.781546  0.537815  0.738211\n",
       "2        30%  0.742896  0.602972  0.728179\n",
       "3        40%  0.736939  0.684846  0.735653\n",
       "4        50%  0.740910  0.744270  0.741154"
      ]
     },
     "execution_count": 20,
     "metadata": {},
     "output_type": "execute_result"
    }
   ],
   "source": [
    "results = {\n",
    "    'Proportion': [str((i+1)*10)+'%' for i in range(n)],\n",
    "    'Accuracy': accuracy,\n",
    "    'F1 Score': f_score,\n",
    "    'AUC': auc_list\n",
    "}\n",
    "\n",
    "results_df = pd.DataFrame(results)\n",
    "results_df\n"
   ]
  },
  {
   "cell_type": "markdown",
   "metadata": {},
   "source": [
    "Receiver Operating Characteristic (ROC) Curves"
   ]
  },
  {
   "cell_type": "code",
   "execution_count": 21,
   "metadata": {},
   "outputs": [
    {
     "data": {
      "image/png": "[encoded data removed]",
      "text/plain": [
       "<Figure size 640x480 with 1 Axes>"
      ]
     },
     "metadata": {},
     "output_type": "display_data"
    }
   ],
   "source": [
    "from sklearn.metrics import roc_curve\n",
    "import matplotlib.pyplot as plt\n",
    "\n",
    "# Plot ROC curve for each proportion\n",
    "for i in range(n):\n",
    "    # Get the predicted probabilities for the positive class\n",
    "    y_pred_proba = model[i].predict_proba(X_test[i])[:, 1]\n",
    "    \n",
    "    # Compute the false positive rate, true positive rate, and thresholds\n",
    "    fpr, tpr, thresholds = roc_curve(y_test[i], y_pred_proba)\n",
    "    \n",
    "    # Plot the ROC curve\n",
    "    plt.plot(fpr, tpr, label=f'Proportion: {90-i*10}%')\n",
    "\n",
    "# Set labels and title\n",
    "plt.xlabel('False Positive Rate')\n",
    "plt.ylabel('True Positive Rate')\n",
    "plt.title('ROC Curve')\n",
    "plt.legend()\n",
    "\n",
    "# Show the plot\n",
    "plt.show()\n"
   ]
  }
 ],
 "metadata": {
  "kernelspec": {
   "display_name": "Python 3",
   "language": "python",
   "name": "python3"
  },
  "language_info": {
   "codemirror_mode": {
    "name": "ipython",
    "version": 3
   },
   "file_extension": ".py",
   "mimetype": "text/x-python",
   "name": "python",
   "nbconvert_exporter": "python",
   "pygments_lexer": "ipython3",
   "version": "3.9.18"
  }
 },
 "nbformat": 4,
 "nbformat_minor": 2
}
