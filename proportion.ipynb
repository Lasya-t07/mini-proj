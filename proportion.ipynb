{
 "cells": [
  {
   "cell_type": "code",
   "execution_count": 215,
   "metadata": {},
   "outputs": [],
   "source": [
    "# Importing the libraries\n",
    "import numpy as np\n",
    "import pandas as pd\n",
    "import seaborn as sns\n",
    "from matplotlib import pyplot as plt\n",
    "from sklearn.metrics import accuracy_score, f1_score, roc_auc_score\n",
    "from sklearn.model_selection import train_test_split\n",
    "from xgboost import XGBClassifier, XGBRegressor\n",
    "from fancyimpute import IterativeImputer\n",
    "import warnings\n",
    "warnings.filterwarnings('ignore')"
   ]
  },
  {
   "cell_type": "code",
   "execution_count": 216,
   "metadata": {},
   "outputs": [],
   "source": [
    "# Load the data\n",
    "data = pd.read_csv('payment-practices.csv')"
   ]
  },
  {
   "cell_type": "code",
   "execution_count": 217,
   "metadata": {},
   "outputs": [],
   "source": [
    "# Drop columns that are not useful for the model\n",
    "columns_to_drop = ['Report Id','Start date', 'End date', 'Filing date', 'Company', 'Company number','URL']\n",
    "data = data.drop(columns=columns_to_drop)"
   ]
  },
  {
   "cell_type": "code",
   "execution_count": 218,
   "metadata": {},
   "outputs": [],
   "source": [
    "# assigning types of features\n",
    "numerical_features = data.select_dtypes(include=['int64', 'float64']).columns\n",
    "categorical_features = data.select_dtypes(include=['object','bool']).columns\n",
    "missing_data_cols = [i for i in categorical_features if data[i].isnull().sum() > 0]\n",
    "non_missing_cat = [i for i in categorical_features if i not in missing_data_cols]"
   ]
  },
  {
   "cell_type": "code",
   "execution_count": 219,
   "metadata": {},
   "outputs": [
    {
     "data": {
      "text/html": [
       "<div>\n",
       "<style scoped>\n",
       "    .dataframe tbody tr th:only-of-type {\n",
       "        vertical-align: middle;\n",
       "    }\n",
       "\n",
       "    .dataframe tbody tr th {\n",
       "        vertical-align: top;\n",
       "    }\n",
       "\n",
       "    .dataframe thead th {\n",
       "        text-align: right;\n",
       "    }\n",
       "</style>\n",
       "<table border=\"1\" class=\"dataframe\">\n",
       "  <thead>\n",
       "    <tr style=\"text-align: right;\">\n",
       "      <th></th>\n",
       "      <th>total_missing</th>\n",
       "      <th>perc_missing</th>\n",
       "    </tr>\n",
       "  </thead>\n",
       "  <tbody>\n",
       "    <tr>\n",
       "      <th>Payments made in the reporting period</th>\n",
       "      <td>14673</td>\n",
       "      <td>18.888789</td>\n",
       "    </tr>\n",
       "    <tr>\n",
       "      <th>Average time to pay</th>\n",
       "      <td>6859</td>\n",
       "      <td>8.829701</td>\n",
       "    </tr>\n",
       "    <tr>\n",
       "      <th>% Invoices paid within 30 days</th>\n",
       "      <td>6859</td>\n",
       "      <td>8.829701</td>\n",
       "    </tr>\n",
       "    <tr>\n",
       "      <th>% Invoices paid between 31 and 60 days</th>\n",
       "      <td>6859</td>\n",
       "      <td>8.829701</td>\n",
       "    </tr>\n",
       "    <tr>\n",
       "      <th>% Invoices paid later than 60 days</th>\n",
       "      <td>6859</td>\n",
       "      <td>8.829701</td>\n",
       "    </tr>\n",
       "    <tr>\n",
       "      <th>% Invoices not paid within agreed terms</th>\n",
       "      <td>6708</td>\n",
       "      <td>8.635316</td>\n",
       "    </tr>\n",
       "    <tr>\n",
       "      <th>Shortest (or only) standard payment period</th>\n",
       "      <td>6708</td>\n",
       "      <td>8.635316</td>\n",
       "    </tr>\n",
       "    <tr>\n",
       "      <th>Longest standard payment period</th>\n",
       "      <td>30562</td>\n",
       "      <td>39.342954</td>\n",
       "    </tr>\n",
       "    <tr>\n",
       "      <th>Maximum contractual payment period</th>\n",
       "      <td>6708</td>\n",
       "      <td>8.635316</td>\n",
       "    </tr>\n",
       "    <tr>\n",
       "      <th>Payment terms have changed</th>\n",
       "      <td>6708</td>\n",
       "      <td>8.635316</td>\n",
       "    </tr>\n",
       "    <tr>\n",
       "      <th>Suppliers notified of changes</th>\n",
       "      <td>76016</td>\n",
       "      <td>97.856619</td>\n",
       "    </tr>\n",
       "    <tr>\n",
       "      <th>Participates in payment codes</th>\n",
       "      <td>0</td>\n",
       "      <td>0.000000</td>\n",
       "    </tr>\n",
       "    <tr>\n",
       "      <th>E-Invoicing offered</th>\n",
       "      <td>6708</td>\n",
       "      <td>8.635316</td>\n",
       "    </tr>\n",
       "    <tr>\n",
       "      <th>Supply-chain financing offered</th>\n",
       "      <td>6708</td>\n",
       "      <td>8.635316</td>\n",
       "    </tr>\n",
       "    <tr>\n",
       "      <th>Policy covers charges for remaining on supplier list</th>\n",
       "      <td>6708</td>\n",
       "      <td>8.635316</td>\n",
       "    </tr>\n",
       "    <tr>\n",
       "      <th>Charges have been made for remaining on supplier list</th>\n",
       "      <td>6708</td>\n",
       "      <td>8.635316</td>\n",
       "    </tr>\n",
       "  </tbody>\n",
       "</table>\n",
       "</div>"
      ],
      "text/plain": [
       "                                                    total_missing  \\\n",
       "Payments made in the reporting period                       14673   \n",
       "Average time to pay                                          6859   \n",
       "% Invoices paid within 30 days                               6859   \n",
       "% Invoices paid between 31 and 60 days                       6859   \n",
       "% Invoices paid later than 60 days                           6859   \n",
       "% Invoices not paid within agreed terms                      6708   \n",
       "Shortest (or only) standard payment period                   6708   \n",
       "Longest standard payment period                             30562   \n",
       "Maximum contractual payment period                           6708   \n",
       "Payment terms have changed                                   6708   \n",
       "Suppliers notified of changes                               76016   \n",
       "Participates in payment codes                                   0   \n",
       "E-Invoicing offered                                          6708   \n",
       "Supply-chain financing offered                               6708   \n",
       "Policy covers charges for remaining on supplier...           6708   \n",
       "Charges have been made for remaining on supplie...           6708   \n",
       "\n",
       "                                                    perc_missing  \n",
       "Payments made in the reporting period                  18.888789  \n",
       "Average time to pay                                     8.829701  \n",
       "% Invoices paid within 30 days                          8.829701  \n",
       "% Invoices paid between 31 and 60 days                  8.829701  \n",
       "% Invoices paid later than 60 days                      8.829701  \n",
       "% Invoices not paid within agreed terms                 8.635316  \n",
       "Shortest (or only) standard payment period              8.635316  \n",
       "Longest standard payment period                        39.342954  \n",
       "Maximum contractual payment period                      8.635316  \n",
       "Payment terms have changed                              8.635316  \n",
       "Suppliers notified of changes                          97.856619  \n",
       "Participates in payment codes                           0.000000  \n",
       "E-Invoicing offered                                     8.635316  \n",
       "Supply-chain financing offered                          8.635316  \n",
       "Policy covers charges for remaining on supplier...      8.635316  \n",
       "Charges have been made for remaining on supplie...      8.635316  "
      ]
     },
     "execution_count": 219,
     "metadata": {},
     "output_type": "execute_result"
    }
   ],
   "source": [
    "# Missing data\n",
    "missing_data = pd.DataFrame({'total_missing': data.isnull().sum(), 'perc_missing': (data.isnull().mean())*100})\n",
    "missing_data"
   ]
  },
  {
   "cell_type": "markdown",
   "metadata": {},
   "source": [
    "Handling missing data"
   ]
  },
  {
   "cell_type": "code",
   "execution_count": 220,
   "metadata": {},
   "outputs": [],
   "source": [
    "data = data.dropna(subset=['E-Invoicing offered'])"
   ]
  },
  {
   "cell_type": "code",
   "execution_count": 221,
   "metadata": {},
   "outputs": [],
   "source": [
    "data['Payments made in the reporting period'].fillna(0, inplace=True)\n",
    "data['Suppliers notified of changes'].fillna(1, inplace=True)"
   ]
  },
  {
   "cell_type": "code",
   "execution_count": 222,
   "metadata": {},
   "outputs": [],
   "source": [
    "for col in numerical_features:\n",
    "    data[col] = data[col].fillna(data[col].mean())"
   ]
  },
  {
   "cell_type": "code",
   "execution_count": 223,
   "metadata": {},
   "outputs": [],
   "source": [
    "mice_imputer = IterativeImputer()\n",
    "data_imputed = mice_imputer.fit_transform(data)\n",
    "data_imputed = pd.DataFrame(data_imputed, columns=data.columns)\n",
    "data = data_imputed"
   ]
  },
  {
   "cell_type": "code",
   "execution_count": 224,
   "metadata": {},
   "outputs": [
    {
     "data": {
      "text/html": [
       "<div>\n",
       "<style scoped>\n",
       "    .dataframe tbody tr th:only-of-type {\n",
       "        vertical-align: middle;\n",
       "    }\n",
       "\n",
       "    .dataframe tbody tr th {\n",
       "        vertical-align: top;\n",
       "    }\n",
       "\n",
       "    .dataframe thead th {\n",
       "        text-align: right;\n",
       "    }\n",
       "</style>\n",
       "<table border=\"1\" class=\"dataframe\">\n",
       "  <thead>\n",
       "    <tr style=\"text-align: right;\">\n",
       "      <th></th>\n",
       "      <th>total_missing</th>\n",
       "      <th>perc_missing</th>\n",
       "    </tr>\n",
       "  </thead>\n",
       "  <tbody>\n",
       "    <tr>\n",
       "      <th>Payments made in the reporting period</th>\n",
       "      <td>0</td>\n",
       "      <td>0.0</td>\n",
       "    </tr>\n",
       "    <tr>\n",
       "      <th>Average time to pay</th>\n",
       "      <td>0</td>\n",
       "      <td>0.0</td>\n",
       "    </tr>\n",
       "    <tr>\n",
       "      <th>% Invoices paid within 30 days</th>\n",
       "      <td>0</td>\n",
       "      <td>0.0</td>\n",
       "    </tr>\n",
       "    <tr>\n",
       "      <th>% Invoices paid between 31 and 60 days</th>\n",
       "      <td>0</td>\n",
       "      <td>0.0</td>\n",
       "    </tr>\n",
       "    <tr>\n",
       "      <th>% Invoices paid later than 60 days</th>\n",
       "      <td>0</td>\n",
       "      <td>0.0</td>\n",
       "    </tr>\n",
       "    <tr>\n",
       "      <th>% Invoices not paid within agreed terms</th>\n",
       "      <td>0</td>\n",
       "      <td>0.0</td>\n",
       "    </tr>\n",
       "    <tr>\n",
       "      <th>Shortest (or only) standard payment period</th>\n",
       "      <td>0</td>\n",
       "      <td>0.0</td>\n",
       "    </tr>\n",
       "    <tr>\n",
       "      <th>Longest standard payment period</th>\n",
       "      <td>0</td>\n",
       "      <td>0.0</td>\n",
       "    </tr>\n",
       "    <tr>\n",
       "      <th>Maximum contractual payment period</th>\n",
       "      <td>0</td>\n",
       "      <td>0.0</td>\n",
       "    </tr>\n",
       "    <tr>\n",
       "      <th>Payment terms have changed</th>\n",
       "      <td>0</td>\n",
       "      <td>0.0</td>\n",
       "    </tr>\n",
       "    <tr>\n",
       "      <th>Suppliers notified of changes</th>\n",
       "      <td>0</td>\n",
       "      <td>0.0</td>\n",
       "    </tr>\n",
       "    <tr>\n",
       "      <th>Participates in payment codes</th>\n",
       "      <td>0</td>\n",
       "      <td>0.0</td>\n",
       "    </tr>\n",
       "    <tr>\n",
       "      <th>E-Invoicing offered</th>\n",
       "      <td>0</td>\n",
       "      <td>0.0</td>\n",
       "    </tr>\n",
       "    <tr>\n",
       "      <th>Supply-chain financing offered</th>\n",
       "      <td>0</td>\n",
       "      <td>0.0</td>\n",
       "    </tr>\n",
       "    <tr>\n",
       "      <th>Policy covers charges for remaining on supplier list</th>\n",
       "      <td>0</td>\n",
       "      <td>0.0</td>\n",
       "    </tr>\n",
       "    <tr>\n",
       "      <th>Charges have been made for remaining on supplier list</th>\n",
       "      <td>0</td>\n",
       "      <td>0.0</td>\n",
       "    </tr>\n",
       "  </tbody>\n",
       "</table>\n",
       "</div>"
      ],
      "text/plain": [
       "                                                    total_missing  \\\n",
       "Payments made in the reporting period                           0   \n",
       "Average time to pay                                             0   \n",
       "% Invoices paid within 30 days                                  0   \n",
       "% Invoices paid between 31 and 60 days                          0   \n",
       "% Invoices paid later than 60 days                              0   \n",
       "% Invoices not paid within agreed terms                         0   \n",
       "Shortest (or only) standard payment period                      0   \n",
       "Longest standard payment period                                 0   \n",
       "Maximum contractual payment period                              0   \n",
       "Payment terms have changed                                      0   \n",
       "Suppliers notified of changes                                   0   \n",
       "Participates in payment codes                                   0   \n",
       "E-Invoicing offered                                             0   \n",
       "Supply-chain financing offered                                  0   \n",
       "Policy covers charges for remaining on supplier...              0   \n",
       "Charges have been made for remaining on supplie...              0   \n",
       "\n",
       "                                                    perc_missing  \n",
       "Payments made in the reporting period                        0.0  \n",
       "Average time to pay                                          0.0  \n",
       "% Invoices paid within 30 days                               0.0  \n",
       "% Invoices paid between 31 and 60 days                       0.0  \n",
       "% Invoices paid later than 60 days                           0.0  \n",
       "% Invoices not paid within agreed terms                      0.0  \n",
       "Shortest (or only) standard payment period                   0.0  \n",
       "Longest standard payment period                              0.0  \n",
       "Maximum contractual payment period                           0.0  \n",
       "Payment terms have changed                                   0.0  \n",
       "Suppliers notified of changes                                0.0  \n",
       "Participates in payment codes                                0.0  \n",
       "E-Invoicing offered                                          0.0  \n",
       "Supply-chain financing offered                               0.0  \n",
       "Policy covers charges for remaining on supplier...           0.0  \n",
       "Charges have been made for remaining on supplie...           0.0  "
      ]
     },
     "execution_count": 224,
     "metadata": {},
     "output_type": "execute_result"
    }
   ],
   "source": [
    "#missing data\n",
    "missing_data = pd.DataFrame({'total_missing': data.isnull().sum(), 'perc_missing': (data.isnull().mean())*100})\n",
    "missing_data"
   ]
  },
  {
   "cell_type": "code",
   "execution_count": 225,
   "metadata": {},
   "outputs": [],
   "source": [
    "n = 5"
   ]
  },
  {
   "cell_type": "code",
   "execution_count": 226,
   "metadata": {},
   "outputs": [
    {
     "data": {
      "text/plain": [
       "[64.0, 47.0, 36.0, 28.0, 22.0]"
      ]
     },
     "execution_count": 226,
     "metadata": {},
     "output_type": "execute_result"
    }
   ],
   "source": [
    "percentile = []\n",
    "for per in range(n):\n",
    "    percentile.append(np.percentile(data['% Invoices not paid within agreed terms'].dropna(), 90-(per*10)))\n",
    "percentile"
   ]
  },
  {
   "cell_type": "code",
   "execution_count": 227,
   "metadata": {},
   "outputs": [],
   "source": [
    "flags = []\n",
    "for i in range(n):\n",
    "    flag = []\n",
    "    for j in data['% Invoices not paid within agreed terms']:\n",
    "        if j > percentile[i]: flag.append(1)\n",
    "        else: flag.append(0)\n",
    "    flags.append(flag)\n",
    "data.drop('% Invoices not paid within agreed terms',axis=1,inplace=True)"
   ]
  },
  {
   "cell_type": "code",
   "execution_count": 228,
   "metadata": {},
   "outputs": [],
   "source": [
    "# Dropping the Highly correlated Features\n",
    "data1 = data.drop(columns=[ '% Invoices paid within 30 days', \n",
    "                            '% Invoices paid later than 60 days',\n",
    "                            'Suppliers notified of changes',\n",
    "                            'Policy covers charges for remaining on supplier list',])"
   ]
  },
  {
   "cell_type": "code",
   "execution_count": 229,
   "metadata": {},
   "outputs": [],
   "source": [
    "X_train = []\n",
    "y_train = []\n",
    "X_test = []\n",
    "y_test = []\n",
    "for i in range(n):\n",
    "    a,b,c,d = train_test_split(data1, flags[i], test_size=0.3, random_state=42)\n",
    "    X_train.append(a)\n",
    "    X_test.append(b)\n",
    "    y_train.append(c)\n",
    "    y_test.append(d)\n"
   ]
  },
  {
   "cell_type": "code",
   "execution_count": 230,
   "metadata": {},
   "outputs": [],
   "source": [
    "from imblearn.over_sampling import RandomOverSampler\n",
    "oversampler = RandomOverSampler()\n",
    "for i in range(n):\n",
    "    X_train[i], y_train[i] = oversampler.fit_resample(X_train[i], y_train[i])"
   ]
  },
  {
   "cell_type": "code",
   "execution_count": 231,
   "metadata": {},
   "outputs": [],
   "source": [
    "from sklearn.metrics import roc_curve\n",
    "from sklearn.metrics import auc\n",
    "# XGBoost Model\n",
    "params = {\n",
    "    'learning_rate': 0.01,\n",
    "    'max_depth': 10,\n",
    "    'min_child_weight': 1,\n",
    "    'subsample': 0.85,\n",
    "    'n_estimators': 900,\n",
    "} "
   ]
  },
  {
   "cell_type": "code",
   "execution_count": 232,
   "metadata": {},
   "outputs": [],
   "source": [
    "y_pred = []\n",
    "y_pred_bin = []\n",
    "model = []\n",
    "for i in range(n):\n",
    "    xgb_clf = XGBRegressor(**params)\n",
    "    xgb_clf.fit(X_train[i], y_train[i])\n",
    "    model.append(xgb_clf)\n",
    "    y_pred.append(xgb_clf.predict(X_test[i]))\n",
    "    y_pred_bin.append(np.where(y_pred[i] > 0.5, 1, 0))\n",
    "    "
   ]
  },
  {
   "cell_type": "code",
   "execution_count": 233,
   "metadata": {},
   "outputs": [],
   "source": [
    "f_score = []\n",
    "auc_list = []\n",
    "accuracy = []\n",
    "fpr = []\n",
    "tpr = []\n",
    "thresholds = []\n",
    "for i in range(n):\n",
    "    accuracy.append(accuracy_score(y_test[i], y_pred_bin[i]))\n",
    "    f_score.append(f1_score(y_test[i], y_pred_bin[i]))\n",
    "    fpr_, tpr_, thresholds_ = roc_curve(y_test[i], y_pred[i])\n",
    "    fpr.append(fpr_)\n",
    "    tpr.append(tpr_)\n",
    "    thresholds.append(thresholds_)\n",
    "    auc_list.append(auc(fpr[i], tpr[i]))"
   ]
  },
  {
   "cell_type": "markdown",
   "metadata": {},
   "source": [
    "Comparing the models"
   ]
  },
  {
   "cell_type": "code",
   "execution_count": 234,
   "metadata": {},
   "outputs": [
    {
     "data": {
      "text/html": [
       "<div>\n",
       "<style scoped>\n",
       "    .dataframe tbody tr th:only-of-type {\n",
       "        vertical-align: middle;\n",
       "    }\n",
       "\n",
       "    .dataframe tbody tr th {\n",
       "        vertical-align: top;\n",
       "    }\n",
       "\n",
       "    .dataframe thead th {\n",
       "        text-align: right;\n",
       "    }\n",
       "</style>\n",
       "<table border=\"1\" class=\"dataframe\">\n",
       "  <thead>\n",
       "    <tr style=\"text-align: right;\">\n",
       "      <th></th>\n",
       "      <th>Risk Proportion</th>\n",
       "      <th>Accuracy</th>\n",
       "      <th>F1 Score</th>\n",
       "      <th>AUC</th>\n",
       "    </tr>\n",
       "  </thead>\n",
       "  <tbody>\n",
       "    <tr>\n",
       "      <th>0</th>\n",
       "      <td>10%</td>\n",
       "      <td>0.828856</td>\n",
       "      <td>0.443324</td>\n",
       "      <td>0.840127</td>\n",
       "    </tr>\n",
       "    <tr>\n",
       "      <th>1</th>\n",
       "      <td>20%</td>\n",
       "      <td>0.777240</td>\n",
       "      <td>0.558832</td>\n",
       "      <td>0.832249</td>\n",
       "    </tr>\n",
       "    <tr>\n",
       "      <th>2</th>\n",
       "      <td>30%</td>\n",
       "      <td>0.760379</td>\n",
       "      <td>0.647067</td>\n",
       "      <td>0.831802</td>\n",
       "    </tr>\n",
       "    <tr>\n",
       "      <th>3</th>\n",
       "      <td>40%</td>\n",
       "      <td>0.752865</td>\n",
       "      <td>0.709057</td>\n",
       "      <td>0.828368</td>\n",
       "    </tr>\n",
       "    <tr>\n",
       "      <th>4</th>\n",
       "      <td>50%</td>\n",
       "      <td>0.754415</td>\n",
       "      <td>0.756144</td>\n",
       "      <td>0.829477</td>\n",
       "    </tr>\n",
       "  </tbody>\n",
       "</table>\n",
       "</div>"
      ],
      "text/plain": [
       "  Risk Proportion  Accuracy  F1 Score       AUC\n",
       "0             10%  0.828856  0.443324  0.840127\n",
       "1             20%  0.777240  0.558832  0.832249\n",
       "2             30%  0.760379  0.647067  0.831802\n",
       "3             40%  0.752865  0.709057  0.828368\n",
       "4             50%  0.754415  0.756144  0.829477"
      ]
     },
     "execution_count": 234,
     "metadata": {},
     "output_type": "execute_result"
    }
   ],
   "source": [
    "results = {\n",
    "    'Risk Proportion': [str((i+1)*10)+'%' for i in range(n)],\n",
    "    'Accuracy': accuracy,\n",
    "    'F1 Score': f_score,\n",
    "    'AUC': auc_list\n",
    "}\n",
    "\n",
    "results_df = pd.DataFrame(results)\n",
    "results_df\n"
   ]
  },
  {
   "cell_type": "markdown",
   "metadata": {},
   "source": [
    "Receiver Operating Characteristic (ROC) Curves"
   ]
  },
  {
   "cell_type": "code",
   "execution_count": null,
   "metadata": {},
   "outputs": [],
   "source": []
  }
 ],
 "metadata": {
  "kernelspec": {
   "display_name": "Python 3",
   "language": "python",
   "name": "python3"
  },
  "language_info": {
   "codemirror_mode": {
    "name": "ipython",
    "version": 3
   },
   "file_extension": ".py",
   "mimetype": "text/x-python",
   "name": "python",
   "nbconvert_exporter": "python",
   "pygments_lexer": "ipython3",
   "version": "3.9.18"
  }
 },
 "nbformat": 4,
 "nbformat_minor": 2
}
